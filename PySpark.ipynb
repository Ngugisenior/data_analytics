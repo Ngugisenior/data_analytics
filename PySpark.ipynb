{
  "nbformat": 4,
  "nbformat_minor": 0,
  "metadata": {
    "colab": {
      "name": "PySpark.ipynb",
      "provenance": [],
      "authorship_tag": "ABX9TyPtK832iDKe2ap+A5/U8Nnc",
      "include_colab_link": true
    },
    "kernelspec": {
      "name": "python3",
      "display_name": "Python 3"
    },
    "language_info": {
      "name": "python"
    }
  },
  "cells": [
    {
      "cell_type": "markdown",
      "metadata": {
        "id": "view-in-github",
        "colab_type": "text"
      },
      "source": [
        "<a href=\"https://colab.research.google.com/github/Ngugisenior/data_analytics/blob/main/PySpark.ipynb\" target=\"_parent\"><img src=\"https://colab.research.google.com/assets/colab-badge.svg\" alt=\"Open In Colab\"/></a>"
      ]
    },
    {
      "cell_type": "markdown",
      "metadata": {
        "id": "3mGt3pK1yVBG"
      },
      "source": [
        "# 1. Import Libraries\n",
        "\n"
      ]
    },
    {
      "cell_type": "code",
      "metadata": {
        "colab": {
          "base_uri": "https://localhost:8080/"
        },
        "id": "JmIWbRuBlz2-",
        "outputId": "bb296191-fbe0-4511-c6fb-affdfa60a796"
      },
      "source": [
        "!pip install pyspark"
      ],
      "execution_count": 1,
      "outputs": [
        {
          "output_type": "stream",
          "name": "stdout",
          "text": [
            "Collecting pyspark\n",
            "  Downloading pyspark-3.1.2.tar.gz (212.4 MB)\n",
            "\u001b[K     |████████████████████████████████| 212.4 MB 65 kB/s \n",
            "\u001b[?25hCollecting py4j==0.10.9\n",
            "  Downloading py4j-0.10.9-py2.py3-none-any.whl (198 kB)\n",
            "\u001b[K     |████████████████████████████████| 198 kB 62.9 MB/s \n",
            "\u001b[?25hBuilding wheels for collected packages: pyspark\n",
            "  Building wheel for pyspark (setup.py) ... \u001b[?25l\u001b[?25hdone\n",
            "  Created wheel for pyspark: filename=pyspark-3.1.2-py2.py3-none-any.whl size=212880768 sha256=ed63666cc7203b25e3b24c65006db0508263492b439f2eba715bea8f616f4764\n",
            "  Stored in directory: /root/.cache/pip/wheels/a5/0a/c1/9561f6fecb759579a7d863dcd846daaa95f598744e71b02c77\n",
            "Successfully built pyspark\n",
            "Installing collected packages: py4j, pyspark\n",
            "Successfully installed py4j-0.10.9 pyspark-3.1.2\n"
          ]
        }
      ]
    },
    {
      "cell_type": "code",
      "metadata": {
        "id": "LpsYlexBmOVc"
      },
      "source": [
        "import pyspark\n",
        "import pandas as pd\n",
        "import datetime as dt\n",
        "from datetime import date\n",
        "import requests\n",
        "import json"
      ],
      "execution_count": 78,
      "outputs": []
    },
    {
      "cell_type": "code",
      "metadata": {
        "id": "KHEnYzP5mUnl"
      },
      "source": [
        "from pyspark.sql import SparkSession\n",
        "from pyspark.sql.functions import col, udf\n",
        "from pyspark.sql.types import DateType\n",
        "from urllib.request import urlopen"
      ],
      "execution_count": 90,
      "outputs": []
    },
    {
      "cell_type": "markdown",
      "metadata": {
        "id": "FX73PH-8mVWk"
      },
      "source": [
        "# 2. PySpark Session"
      ]
    },
    {
      "cell_type": "code",
      "metadata": {
        "id": "G-I3lLSamiM0"
      },
      "source": [
        "spark = SparkSession.builder.appName('PySpark Tutorial').getOrCreate()"
      ],
      "execution_count": 6,
      "outputs": []
    },
    {
      "cell_type": "markdown",
      "metadata": {
        "id": "x0-OGMdCsWjz"
      },
      "source": [
        "# 3. Import Json Data"
      ]
    },
    {
      "cell_type": "code",
      "metadata": {
        "id": "-xICeO81mpm0"
      },
      "source": [
        "url = 'https://ergast.com/api/f1/drivers.json?limit=60'\n",
        "j_data = requests.get(url)\n",
        "f1 = j_data.json()"
      ],
      "execution_count": 53,
      "outputs": []
    },
    {
      "cell_type": "markdown",
      "metadata": {
        "id": "kAoqL35YslkQ"
      },
      "source": [
        "# 4. Read JSON data to a PySpark dataframe"
      ]
    },
    {
      "cell_type": "code",
      "metadata": {
        "id": "tx1PQTvHodqW"
      },
      "source": [
        "rdd = spark.sparkContext.parallelize([f1['MRData']['DriverTable']['Drivers']])\n",
        "df_spark = spark.read.option(\"multiLine\", True).json(rdd)"
      ],
      "execution_count": 60,
      "outputs": []
    },
    {
      "cell_type": "markdown",
      "metadata": {
        "id": "aTmQKB2FtlIx"
      },
      "source": [
        "# 5. Show Dataframe Data\n",
        "\n"
      ]
    },
    {
      "cell_type": "code",
      "metadata": {
        "colab": {
          "base_uri": "https://localhost:8080/"
        },
        "id": "QxohHWJBqPmf",
        "outputId": "479b5ca1-ac94-4d4d-eb92-e367f7ec79ed"
      },
      "source": [
        "df_spark.show()"
      ],
      "execution_count": 69,
      "outputs": [
        {
          "output_type": "stream",
          "name": "stdout",
          "text": [
            "+----+-----------+------------+-----------+----------+-----------+---------------+--------------------+\n",
            "|code|dateOfBirth|    driverId| familyName| givenName|nationality|permanentNumber|                 url|\n",
            "+----+-----------+------------+-----------+----------+-----------+---------------+--------------------+\n",
            "|null| 1932-07-10|       abate|      Abate|     Carlo|    Italian|           null|http://en.wikiped...|\n",
            "|null| 1913-03-21|   abecassis|  Abecassis|    George|    British|           null|http://en.wikiped...|\n",
            "|null| 1957-11-27|     acheson|    Acheson|     Kenny|    British|           null|http://en.wikiped...|\n",
            "|null| 1969-11-19|       adams|      Adams|  Philippe|    Belgian|           null|http://en.wikiped...|\n",
            "|null| 1913-12-15|        ader|       Ader|      Walt|   American|           null|http://en.wikiped...|\n",
            "|null| 1921-11-05|      adolff|     Adolff|      Kurt|     German|           null|http://en.wikiped...|\n",
            "|null| 1913-08-21|  agabashian| Agabashian|      Fred|   American|           null|http://en.wikiped...|\n",
            "|null| 1940-04-19|      ahrens|     Ahrens|      Kurt|     German|           null|http://en.wikiped...|\n",
            "| AIT| 1995-09-23|      aitken|     Aitken|      Jack|    British|             89|http://en.wikiped...|\n",
            "| ALB| 1979-04-16|      albers|     Albers|Christijan|      Dutch|           null|http://en.wikiped...|\n",
            "| ALB| 1996-03-23|       albon|      Albon| Alexander|       Thai|             23|http://en.wikiped...|\n",
            "|null| 1956-12-23|    alboreto|   Alboreto|   Michele|    Italian|           null|http://en.wikiped...|\n",
            "|null| 1964-06-11|       alesi|      Alesi|      Jean|     French|           null|http://en.wikiped...|\n",
            "| ALG| 1990-03-23| alguersuari|Alguersuari|     Jaime|    Spanish|           null|http://en.wikiped...|\n",
            "|null| 1954-07-27|      alliot|     Alliot|  Philippe|     French|           null|http://en.wikiped...|\n",
            "|null| 1932-02-08|     allison|    Allison|     Cliff|    British|           null|http://en.wikiped...|\n",
            "| ALO| 1981-07-29|      alonso|     Alonso|  Fernando|    Spanish|             14|http://en.wikiped...|\n",
            "|null| 1959-07-20|       amati|      Amati|  Giovanna|    Italian|           null|http://en.wikiped...|\n",
            "|null| 1929-01-19|       amick|      Amick|       Red|   American|           null|http://en.wikiped...|\n",
            "|null| 1924-10-24|george_amick|      Amick|    George|   American|           null|http://en.wikiped...|\n",
            "+----+-----------+------------+-----------+----------+-----------+---------------+--------------------+\n",
            "only showing top 20 rows\n",
            "\n"
          ]
        }
      ]
    },
    {
      "cell_type": "markdown",
      "metadata": {
        "id": "8-Q-XEYjvEJ0"
      },
      "source": [
        "# 6. Show DataFrame Schema"
      ]
    },
    {
      "cell_type": "code",
      "metadata": {
        "colab": {
          "base_uri": "https://localhost:8080/"
        },
        "id": "tjAjOfTTu3S-",
        "outputId": "50d6bcdc-eca8-43c7-e5d9-680e46cc8f26"
      },
      "source": [
        "df_spark.printSchema()"
      ],
      "execution_count": 62,
      "outputs": [
        {
          "output_type": "stream",
          "name": "stdout",
          "text": [
            "root\n",
            " |-- code: string (nullable = true)\n",
            " |-- dateOfBirth: string (nullable = true)\n",
            " |-- driverId: string (nullable = true)\n",
            " |-- familyName: string (nullable = true)\n",
            " |-- givenName: string (nullable = true)\n",
            " |-- nationality: string (nullable = true)\n",
            " |-- permanentNumber: string (nullable = true)\n",
            " |-- url: string (nullable = true)\n",
            "\n"
          ]
        }
      ]
    },
    {
      "cell_type": "markdown",
      "metadata": {
        "id": "Z2XWdbwcwoTD"
      },
      "source": [
        "# 7. DataFrame columns"
      ]
    },
    {
      "cell_type": "code",
      "metadata": {
        "colab": {
          "base_uri": "https://localhost:8080/"
        },
        "id": "wNi-xHtiwOa8",
        "outputId": "61462183-3d6b-413d-970e-71522982265c"
      },
      "source": [
        "df_spark.columns"
      ],
      "execution_count": 63,
      "outputs": [
        {
          "output_type": "execute_result",
          "data": {
            "text/plain": [
              "['code',\n",
              " 'dateOfBirth',\n",
              " 'driverId',\n",
              " 'familyName',\n",
              " 'givenName',\n",
              " 'nationality',\n",
              " 'permanentNumber',\n",
              " 'url']"
            ]
          },
          "metadata": {},
          "execution_count": 63
        }
      ]
    },
    {
      "cell_type": "markdown",
      "metadata": {
        "id": "OpA0TcRHw07e"
      },
      "source": [
        "# 8. Top N columns"
      ]
    },
    {
      "cell_type": "code",
      "metadata": {
        "colab": {
          "base_uri": "https://localhost:8080/"
        },
        "id": "5uDC3X2Ew3wM",
        "outputId": "d74b7b82-841f-4b67-f9af-a5a1ffcf895c"
      },
      "source": [
        "df_spark.head(n=5)"
      ],
      "execution_count": 70,
      "outputs": [
        {
          "output_type": "execute_result",
          "data": {
            "text/plain": [
              "[Row(code=None, dateOfBirth='1932-07-10', driverId='abate', familyName='Abate', givenName='Carlo', nationality='Italian', permanentNumber=None, url='http://en.wikipedia.org/wiki/Carlo_Mario_Abate'),\n",
              " Row(code=None, dateOfBirth='1913-03-21', driverId='abecassis', familyName='Abecassis', givenName='George', nationality='British', permanentNumber=None, url='http://en.wikipedia.org/wiki/George_Abecassis'),\n",
              " Row(code=None, dateOfBirth='1957-11-27', driverId='acheson', familyName='Acheson', givenName='Kenny', nationality='British', permanentNumber=None, url='http://en.wikipedia.org/wiki/Kenny_Acheson'),\n",
              " Row(code=None, dateOfBirth='1969-11-19', driverId='adams', familyName='Adams', givenName='Philippe', nationality='Belgian', permanentNumber=None, url='http://en.wikipedia.org/wiki/Philippe_Adams'),\n",
              " Row(code=None, dateOfBirth='1913-12-15', driverId='ader', familyName='Ader', givenName='Walt', nationality='American', permanentNumber=None, url='http://en.wikipedia.org/wiki/Walt_Ader')]"
            ]
          },
          "metadata": {},
          "execution_count": 70
        }
      ]
    },
    {
      "cell_type": "markdown",
      "metadata": {
        "id": "qc-YFX-CxJkK"
      },
      "source": [
        "# 9. Select a single DataFrame column"
      ]
    },
    {
      "cell_type": "code",
      "metadata": {
        "colab": {
          "base_uri": "https://localhost:8080/"
        },
        "id": "ioqSJcruxPvQ",
        "outputId": "8b218c26-92cf-43d9-9f23-ec2529949659"
      },
      "source": [
        "df_spark.select(['givenName']).show()"
      ],
      "execution_count": 72,
      "outputs": [
        {
          "output_type": "stream",
          "name": "stdout",
          "text": [
            "+----------+\n",
            "| givenName|\n",
            "+----------+\n",
            "|     Carlo|\n",
            "|    George|\n",
            "|     Kenny|\n",
            "|  Philippe|\n",
            "|      Walt|\n",
            "|      Kurt|\n",
            "|      Fred|\n",
            "|      Kurt|\n",
            "|      Jack|\n",
            "|Christijan|\n",
            "| Alexander|\n",
            "|   Michele|\n",
            "|      Jean|\n",
            "|     Jaime|\n",
            "|  Philippe|\n",
            "|     Cliff|\n",
            "|  Fernando|\n",
            "|  Giovanna|\n",
            "|       Red|\n",
            "|    George|\n",
            "+----------+\n",
            "only showing top 20 rows\n",
            "\n"
          ]
        }
      ]
    },
    {
      "cell_type": "markdown",
      "metadata": {
        "id": "Dz2hbO5Cx1cT"
      },
      "source": [
        "# 10. Select multiple columns from a PySpark DataFrame"
      ]
    },
    {
      "cell_type": "code",
      "metadata": {
        "colab": {
          "base_uri": "https://localhost:8080/"
        },
        "id": "odABNy7Hx9ja",
        "outputId": "9f8b8914-d838-4a53-908e-f5dda813dd75"
      },
      "source": [
        "df_spark.select(['givenName', 'url']).show()"
      ],
      "execution_count": 73,
      "outputs": [
        {
          "output_type": "stream",
          "name": "stdout",
          "text": [
            "+----------+--------------------+\n",
            "| givenName|                 url|\n",
            "+----------+--------------------+\n",
            "|     Carlo|http://en.wikiped...|\n",
            "|    George|http://en.wikiped...|\n",
            "|     Kenny|http://en.wikiped...|\n",
            "|  Philippe|http://en.wikiped...|\n",
            "|      Walt|http://en.wikiped...|\n",
            "|      Kurt|http://en.wikiped...|\n",
            "|      Fred|http://en.wikiped...|\n",
            "|      Kurt|http://en.wikiped...|\n",
            "|      Jack|http://en.wikiped...|\n",
            "|Christijan|http://en.wikiped...|\n",
            "| Alexander|http://en.wikiped...|\n",
            "|   Michele|http://en.wikiped...|\n",
            "|      Jean|http://en.wikiped...|\n",
            "|     Jaime|http://en.wikiped...|\n",
            "|  Philippe|http://en.wikiped...|\n",
            "|     Cliff|http://en.wikiped...|\n",
            "|  Fernando|http://en.wikiped...|\n",
            "|  Giovanna|http://en.wikiped...|\n",
            "|       Red|http://en.wikiped...|\n",
            "|    George|http://en.wikiped...|\n",
            "+----------+--------------------+\n",
            "only showing top 20 rows\n",
            "\n"
          ]
        }
      ]
    },
    {
      "cell_type": "markdown",
      "metadata": {
        "id": "ZQNGe_UgzRv-"
      },
      "source": [
        "# 11. Checking the column datatypes"
      ]
    },
    {
      "cell_type": "code",
      "metadata": {
        "colab": {
          "base_uri": "https://localhost:8080/"
        },
        "id": "xsMiY_rUza9v",
        "outputId": "df1ca567-7a17-4cc1-973c-8987154ae13e"
      },
      "source": [
        "df_spark.dtypes"
      ],
      "execution_count": 74,
      "outputs": [
        {
          "output_type": "execute_result",
          "data": {
            "text/plain": [
              "[('code', 'string'),\n",
              " ('dateOfBirth', 'string'),\n",
              " ('driverId', 'string'),\n",
              " ('familyName', 'string'),\n",
              " ('givenName', 'string'),\n",
              " ('nationality', 'string'),\n",
              " ('permanentNumber', 'string'),\n",
              " ('url', 'string')]"
            ]
          },
          "metadata": {},
          "execution_count": 74
        }
      ]
    },
    {
      "cell_type": "markdown",
      "metadata": {
        "id": "moWWW8ipzg9K"
      },
      "source": [
        "# 12. Describe function similar to pandas"
      ]
    },
    {
      "cell_type": "code",
      "metadata": {
        "colab": {
          "base_uri": "https://localhost:8080/"
        },
        "id": "fQPw6pzyzoaH",
        "outputId": "f7e3ba9d-2ba5-4e06-e110-b76e903fdd62"
      },
      "source": [
        "df_spark.describe().show()"
      ],
      "execution_count": 77,
      "outputs": [
        {
          "output_type": "stream",
          "name": "stdout",
          "text": [
            "+-------+----+-----------+--------------+----------+---------+-----------+-----------------+--------------------+\n",
            "|summary|code|dateOfBirth|      driverId|familyName|givenName|nationality|  permanentNumber|                 url|\n",
            "+-------+----+-----------+--------------+----------+---------+-----------+-----------------+--------------------+\n",
            "|  count|   7|         60|            60|        60|       60|         60|                3|                  60|\n",
            "|   mean|null|       null|          null|      null|     null|       null|             42.0|                null|\n",
            "| stddev|null|       null|          null|      null|     null|       null|40.95119045888654|                null|\n",
            "|    min| AIT| 1900-03-29|         abate|     Abate|  Alberto|   American|               14|http://en.wikiped...|\n",
            "|    max| BAR| 1996-03-23|mario_andretti|     Behra|     Élie|       Thai|               89|http://en.wikiped...|\n",
            "+-------+----+-----------+--------------+----------+---------+-----------+-----------------+--------------------+\n",
            "\n"
          ]
        }
      ]
    },
    {
      "cell_type": "markdown",
      "metadata": {
        "id": "gNjjrtvv0BGZ"
      },
      "source": [
        "# 13. Adding columns to a PySpark DataFrame"
      ]
    },
    {
      "cell_type": "code",
      "metadata": {
        "colab": {
          "base_uri": "https://localhost:8080/"
        },
        "id": "z-Y90ySQ0ITh",
        "outputId": "d626a450-7d6d-4774-82fa-3042c70669d9"
      },
      "source": [
        "# Lets add a column named AGE which is the expected age of the driver today\n",
        "df_spark = df_spark.withColumn('dateOfBirth',  col('dateOfBirth').cast(DateType()))\n",
        "\n",
        "xx = dt.datetime.now()\n",
        "df_spark = df_spark.withColumn('age', (date(xx.year,xx.month,xx.day)-df_spark['dateOfBirth']))\n",
        "df_spark.show()"
      ],
      "execution_count": 132,
      "outputs": [
        {
          "output_type": "stream",
          "name": "stdout",
          "text": [
            "+----+-----------+------------+-----------+----------+-----------+---------------+--------------------+--------------------+\n",
            "|code|dateOfBirth|    driverId| familyName| givenName|nationality|permanentNumber|                 url|                 age|\n",
            "+----+-----------+------------+-----------+----------+-----------+---------------+--------------------+--------------------+\n",
            "|null| 1932-07-10|       abate|      Abate|     Carlo|    Italian|           null|http://en.wikiped...|   89 years 2 months|\n",
            "|null| 1913-03-21|   abecassis|  Abecassis|    George|    British|           null|http://en.wikiped...|108 years 5 month...|\n",
            "|null| 1957-11-27|     acheson|    Acheson|     Kenny|    British|           null|http://en.wikiped...|63 years 9 months...|\n",
            "|null| 1969-11-19|       adams|      Adams|  Philippe|    Belgian|           null|http://en.wikiped...|51 years 9 months...|\n",
            "|null| 1913-12-15|        ader|       Ader|      Walt|   American|           null|http://en.wikiped...|107 years 8 month...|\n",
            "|null| 1921-11-05|      adolff|     Adolff|      Kurt|     German|           null|http://en.wikiped...|99 years 10 month...|\n",
            "|null| 1913-08-21|  agabashian| Agabashian|      Fred|   American|           null|http://en.wikiped...|   108 years 20 days|\n",
            "|null| 1940-04-19|      ahrens|     Ahrens|      Kurt|     German|           null|http://en.wikiped...|81 years 4 months...|\n",
            "| AIT| 1995-09-23|      aitken|     Aitken|      Jack|    British|             89|http://en.wikiped...|25 years 11 month...|\n",
            "| ALB| 1979-04-16|      albers|     Albers|Christijan|      Dutch|           null|http://en.wikiped...|42 years 4 months...|\n",
            "| ALB| 1996-03-23|       albon|      Albon| Alexander|       Thai|             23|http://en.wikiped...|25 years 5 months...|\n",
            "|null| 1956-12-23|    alboreto|   Alboreto|   Michele|    Italian|           null|http://en.wikiped...|64 years 8 months...|\n",
            "|null| 1964-06-11|       alesi|      Alesi|      Jean|     French|           null|http://en.wikiped...|57 years 2 months...|\n",
            "| ALG| 1990-03-23| alguersuari|Alguersuari|     Jaime|    Spanish|           null|http://en.wikiped...|31 years 5 months...|\n",
            "|null| 1954-07-27|      alliot|     Alliot|  Philippe|     French|           null|http://en.wikiped...|67 years 1 months...|\n",
            "|null| 1932-02-08|     allison|    Allison|     Cliff|    British|           null|http://en.wikiped...|89 years 7 months...|\n",
            "| ALO| 1981-07-29|      alonso|     Alonso|  Fernando|    Spanish|             14|http://en.wikiped...|40 years 1 months...|\n",
            "|null| 1959-07-20|       amati|      Amati|  Giovanna|    Italian|           null|http://en.wikiped...|62 years 1 months...|\n",
            "|null| 1929-01-19|       amick|      Amick|       Red|   American|           null|http://en.wikiped...|92 years 7 months...|\n",
            "|null| 1924-10-24|george_amick|      Amick|    George|   American|           null|http://en.wikiped...|96 years 10 month...|\n",
            "+----+-----------+------------+-----------+----------+-----------+---------------+--------------------+--------------------+\n",
            "only showing top 20 rows\n",
            "\n"
          ]
        }
      ]
    },
    {
      "cell_type": "markdown",
      "metadata": {
        "id": "K4wDsIzo_mb8"
      },
      "source": [
        "# 14. Dropping acolumn from a Pyspark dataFrame"
      ]
    },
    {
      "cell_type": "code",
      "metadata": {
        "colab": {
          "base_uri": "https://localhost:8080/"
        },
        "id": "xq-3cNos_vkU",
        "outputId": "d81dab84-bb61-4954-eeac-49e0cc0ac0d3"
      },
      "source": [
        "df_spark = df_spark.drop('age')\n",
        "df_spark.show()"
      ],
      "execution_count": 134,
      "outputs": [
        {
          "output_type": "stream",
          "name": "stdout",
          "text": [
            "+----+-----------+------------+-----------+----------+-----------+---------------+--------------------+\n",
            "|code|dateOfBirth|    driverId| familyName| givenName|nationality|permanentNumber|                 url|\n",
            "+----+-----------+------------+-----------+----------+-----------+---------------+--------------------+\n",
            "|null| 1932-07-10|       abate|      Abate|     Carlo|    Italian|           null|http://en.wikiped...|\n",
            "|null| 1913-03-21|   abecassis|  Abecassis|    George|    British|           null|http://en.wikiped...|\n",
            "|null| 1957-11-27|     acheson|    Acheson|     Kenny|    British|           null|http://en.wikiped...|\n",
            "|null| 1969-11-19|       adams|      Adams|  Philippe|    Belgian|           null|http://en.wikiped...|\n",
            "|null| 1913-12-15|        ader|       Ader|      Walt|   American|           null|http://en.wikiped...|\n",
            "|null| 1921-11-05|      adolff|     Adolff|      Kurt|     German|           null|http://en.wikiped...|\n",
            "|null| 1913-08-21|  agabashian| Agabashian|      Fred|   American|           null|http://en.wikiped...|\n",
            "|null| 1940-04-19|      ahrens|     Ahrens|      Kurt|     German|           null|http://en.wikiped...|\n",
            "| AIT| 1995-09-23|      aitken|     Aitken|      Jack|    British|             89|http://en.wikiped...|\n",
            "| ALB| 1979-04-16|      albers|     Albers|Christijan|      Dutch|           null|http://en.wikiped...|\n",
            "| ALB| 1996-03-23|       albon|      Albon| Alexander|       Thai|             23|http://en.wikiped...|\n",
            "|null| 1956-12-23|    alboreto|   Alboreto|   Michele|    Italian|           null|http://en.wikiped...|\n",
            "|null| 1964-06-11|       alesi|      Alesi|      Jean|     French|           null|http://en.wikiped...|\n",
            "| ALG| 1990-03-23| alguersuari|Alguersuari|     Jaime|    Spanish|           null|http://en.wikiped...|\n",
            "|null| 1954-07-27|      alliot|     Alliot|  Philippe|     French|           null|http://en.wikiped...|\n",
            "|null| 1932-02-08|     allison|    Allison|     Cliff|    British|           null|http://en.wikiped...|\n",
            "| ALO| 1981-07-29|      alonso|     Alonso|  Fernando|    Spanish|             14|http://en.wikiped...|\n",
            "|null| 1959-07-20|       amati|      Amati|  Giovanna|    Italian|           null|http://en.wikiped...|\n",
            "|null| 1929-01-19|       amick|      Amick|       Red|   American|           null|http://en.wikiped...|\n",
            "|null| 1924-10-24|george_amick|      Amick|    George|   American|           null|http://en.wikiped...|\n",
            "+----+-----------+------------+-----------+----------+-----------+---------------+--------------------+\n",
            "only showing top 20 rows\n",
            "\n"
          ]
        }
      ]
    },
    {
      "cell_type": "code",
      "metadata": {
        "id": "Avp24rFw7XcQ"
      },
      "source": [
        ""
      ],
      "execution_count": 124,
      "outputs": []
    }
  ]
}